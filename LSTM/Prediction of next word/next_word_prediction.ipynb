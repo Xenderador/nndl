{
 "cells": [
  {
   "cell_type": "markdown",
   "metadata": {},
   "source": [
    "# Prediction Of Next Word Using LSTM"
   ]
  },
  {
   "cell_type": "code",
   "execution_count": 28,
   "metadata": {},
   "outputs": [],
   "source": [
    "import tensorflow as tf\n",
    "import numpy as np\n",
    "from tensorflow import keras\n",
    "from keras.layers import LSTM, Embedding, Dense, TextVectorization\n",
    "from keras.models import Sequential"
   ]
  },
  {
   "cell_type": "code",
   "execution_count": 29,
   "metadata": {},
   "outputs": [],
   "source": [
    "# Load the data\n",
    "text = 'This is a sample text used to demonstrate predictive text with basic LSTM model.'"
   ]
  },
  {
   "cell_type": "code",
   "execution_count": 30,
   "metadata": {},
   "outputs": [
    {
     "data": {
      "text/plain": [
       "<tf.Tensor: shape=(14,), dtype=int64, numpy=array([ 6, 11, 14,  7,  2,  4,  5, 12,  8,  2,  3, 13, 10,  9])>"
      ]
     },
     "execution_count": 30,
     "metadata": {},
     "output_type": "execute_result"
    }
   ],
   "source": [
    "# Tokenize the text\n",
    "tokenizer = TextVectorization()\n",
    "tokenizer.adapt(text.split())\n",
    "\n",
    "# Create sequences\n",
    "text_sequences = tokenizer(text)\n",
    "text_sequences"
   ]
  },
  {
   "cell_type": "code",
   "execution_count": 31,
   "metadata": {},
   "outputs": [],
   "source": [
    "# Create x and y\n",
    "x = text_sequences[:-1]\n",
    "y = text_sequences[1:]"
   ]
  },
  {
   "cell_type": "code",
   "execution_count": 36,
   "metadata": {},
   "outputs": [],
   "source": [
    "# Create the model\n",
    "model = Sequential([\n",
    "    Embedding(input_dim = len(tokenizer.get_vocabulary()), output_dim = 64, input_length = 1),\n",
    "    LSTM(128, return_sequences = True),\n",
    "    Dense(len(tokenizer.get_vocabulary()), activation = 'softmax')\n",
    "])"
   ]
  },
  {
   "cell_type": "code",
   "execution_count": 37,
   "metadata": {},
   "outputs": [],
   "source": [
    "# Compile the model\n",
    "model.compile(loss = 'sparse_categorical_crossentropy', optimizer = 'adam', metrics = ['accuracy'])"
   ]
  },
  {
   "cell_type": "code",
   "execution_count": 38,
   "metadata": {},
   "outputs": [
    {
     "name": "stdout",
     "output_type": "stream",
     "text": [
      "Epoch 1/50\n",
      "1/1 [==============================] - 1s 638ms/step - loss: 2.7089 - accuracy: 0.0355\n",
      "Epoch 2/50\n",
      "1/1 [==============================] - 0s 3ms/step - loss: 2.7053 - accuracy: 0.0769\n",
      "Epoch 3/50\n",
      "1/1 [==============================] - 0s 3ms/step - loss: 2.7017 - accuracy: 0.0769\n",
      "Epoch 4/50\n",
      "1/1 [==============================] - 0s 3ms/step - loss: 2.6981 - accuracy: 0.0888\n",
      "Epoch 5/50\n",
      "1/1 [==============================] - 0s 3ms/step - loss: 2.6944 - accuracy: 0.1006\n",
      "Epoch 6/50\n",
      "1/1 [==============================] - 0s 3ms/step - loss: 2.6907 - accuracy: 0.1065\n",
      "Epoch 7/50\n",
      "1/1 [==============================] - 0s 3ms/step - loss: 2.6869 - accuracy: 0.1065\n",
      "Epoch 8/50\n",
      "1/1 [==============================] - 0s 3ms/step - loss: 2.6830 - accuracy: 0.1006\n",
      "Epoch 9/50\n",
      "1/1 [==============================] - 0s 3ms/step - loss: 2.6791 - accuracy: 0.1006\n",
      "Epoch 10/50\n",
      "1/1 [==============================] - 0s 2ms/step - loss: 2.6751 - accuracy: 0.0947\n",
      "Epoch 11/50\n",
      "1/1 [==============================] - 0s 3ms/step - loss: 2.6709 - accuracy: 0.0947\n",
      "Epoch 12/50\n",
      "1/1 [==============================] - 0s 2ms/step - loss: 2.6666 - accuracy: 0.0947\n",
      "Epoch 13/50\n",
      "1/1 [==============================] - 0s 5ms/step - loss: 2.6622 - accuracy: 0.0947\n",
      "Epoch 14/50\n",
      "1/1 [==============================] - 0s 8ms/step - loss: 2.6576 - accuracy: 0.0947\n",
      "Epoch 15/50\n",
      "1/1 [==============================] - 0s 6ms/step - loss: 2.6528 - accuracy: 0.0947\n",
      "Epoch 16/50\n",
      "1/1 [==============================] - 0s 5ms/step - loss: 2.6479 - accuracy: 0.0947\n",
      "Epoch 17/50\n",
      "1/1 [==============================] - 0s 4ms/step - loss: 2.6427 - accuracy: 0.0947\n",
      "Epoch 18/50\n",
      "1/1 [==============================] - 0s 3ms/step - loss: 2.6373 - accuracy: 0.0947\n",
      "Epoch 19/50\n",
      "1/1 [==============================] - 0s 3ms/step - loss: 2.6317 - accuracy: 0.0947\n",
      "Epoch 20/50\n",
      "1/1 [==============================] - 0s 3ms/step - loss: 2.6258 - accuracy: 0.0888\n",
      "Epoch 21/50\n",
      "1/1 [==============================] - 0s 3ms/step - loss: 2.6197 - accuracy: 0.0888\n",
      "Epoch 22/50\n",
      "1/1 [==============================] - 0s 3ms/step - loss: 2.6132 - accuracy: 0.0888\n",
      "Epoch 23/50\n",
      "1/1 [==============================] - 0s 3ms/step - loss: 2.6065 - accuracy: 0.0888\n",
      "Epoch 24/50\n",
      "1/1 [==============================] - 0s 3ms/step - loss: 2.5995 - accuracy: 0.0888\n",
      "Epoch 25/50\n",
      "1/1 [==============================] - 0s 3ms/step - loss: 2.5921 - accuracy: 0.0888\n",
      "Epoch 26/50\n",
      "1/1 [==============================] - 0s 3ms/step - loss: 2.5844 - accuracy: 0.0888\n",
      "Epoch 27/50\n",
      "1/1 [==============================] - 0s 2ms/step - loss: 2.5763 - accuracy: 0.0888\n",
      "Epoch 28/50\n",
      "1/1 [==============================] - 0s 3ms/step - loss: 2.5679 - accuracy: 0.0888\n",
      "Epoch 29/50\n",
      "1/1 [==============================] - 0s 2ms/step - loss: 2.5590 - accuracy: 0.0888\n",
      "Epoch 30/50\n",
      "1/1 [==============================] - 0s 3ms/step - loss: 2.5498 - accuracy: 0.0888\n",
      "Epoch 31/50\n",
      "1/1 [==============================] - 0s 3ms/step - loss: 2.5401 - accuracy: 0.0888\n",
      "Epoch 32/50\n",
      "1/1 [==============================] - 0s 3ms/step - loss: 2.5299 - accuracy: 0.0888\n",
      "Epoch 33/50\n",
      "1/1 [==============================] - 0s 2ms/step - loss: 2.5193 - accuracy: 0.0888\n",
      "Epoch 34/50\n",
      "1/1 [==============================] - 0s 3ms/step - loss: 2.5081 - accuracy: 0.0888\n",
      "Epoch 35/50\n",
      "1/1 [==============================] - 0s 2ms/step - loss: 2.4965 - accuracy: 0.0888\n",
      "Epoch 36/50\n",
      "1/1 [==============================] - 0s 3ms/step - loss: 2.4843 - accuracy: 0.0888\n",
      "Epoch 37/50\n",
      "1/1 [==============================] - 0s 3ms/step - loss: 2.4716 - accuracy: 0.0888\n",
      "Epoch 38/50\n",
      "1/1 [==============================] - 0s 2ms/step - loss: 2.4582 - accuracy: 0.0888\n",
      "Epoch 39/50\n",
      "1/1 [==============================] - 0s 2ms/step - loss: 2.4443 - accuracy: 0.0888\n",
      "Epoch 40/50\n",
      "1/1 [==============================] - 0s 3ms/step - loss: 2.4298 - accuracy: 0.0888\n",
      "Epoch 41/50\n",
      "1/1 [==============================] - 0s 3ms/step - loss: 2.4146 - accuracy: 0.0888\n",
      "Epoch 42/50\n",
      "1/1 [==============================] - 0s 2ms/step - loss: 2.3987 - accuracy: 0.0888\n",
      "Epoch 43/50\n",
      "1/1 [==============================] - 0s 3ms/step - loss: 2.3822 - accuracy: 0.0888\n",
      "Epoch 44/50\n",
      "1/1 [==============================] - 0s 3ms/step - loss: 2.3649 - accuracy: 0.0888\n",
      "Epoch 45/50\n",
      "1/1 [==============================] - 0s 2ms/step - loss: 2.3469 - accuracy: 0.0888\n",
      "Epoch 46/50\n",
      "1/1 [==============================] - 0s 5ms/step - loss: 2.3282 - accuracy: 0.0888\n",
      "Epoch 47/50\n",
      "1/1 [==============================] - 0s 6ms/step - loss: 2.3086 - accuracy: 0.0888\n",
      "Epoch 48/50\n",
      "1/1 [==============================] - 0s 7ms/step - loss: 2.2883 - accuracy: 0.0888\n",
      "Epoch 49/50\n",
      "1/1 [==============================] - 0s 3ms/step - loss: 2.2672 - accuracy: 0.0888\n",
      "Epoch 50/50\n",
      "1/1 [==============================] - 0s 4ms/step - loss: 2.2452 - accuracy: 0.0888\n"
     ]
    },
    {
     "data": {
      "text/plain": [
       "<keras.src.callbacks.History at 0x29b09e510>"
      ]
     },
     "execution_count": 38,
     "metadata": {},
     "output_type": "execute_result"
    }
   ],
   "source": [
    "# Fit the model\n",
    "model.fit(x, y, epochs = 50)"
   ]
  },
  {
   "cell_type": "code",
   "execution_count": 39,
   "metadata": {},
   "outputs": [],
   "source": [
    "# Predict the next word\n",
    "def generate_next_word(seed_text):\n",
    "  seed_sequence = tokenizer(seed_text)\n",
    "  predicted_probabilities = model.predict(seed_sequence)\n",
    "  predicted_index = np.argmax(predicted_probabilities)\n",
    "  predicted_word = tokenizer.get_vocabulary()[predicted_index]\n",
    "  return predicted_word"
   ]
  },
  {
   "cell_type": "code",
   "execution_count": 40,
   "metadata": {},
   "outputs": [
    {
     "name": "stdout",
     "output_type": "stream",
     "text": [
      "1/1 [==============================] - 0s 164ms/step\n",
      "Input: 'this', Predicted: 'is'\n"
     ]
    }
   ],
   "source": [
    "input_text = \"this\"\n",
    "predicted_word = generate_next_word(input_text)\n",
    "print(f\"Input: '{input_text}', Predicted: '{predicted_word}'\")"
   ]
  }
 ],
 "metadata": {
  "kernelspec": {
   "display_name": "base",
   "language": "python",
   "name": "python3"
  },
  "language_info": {
   "codemirror_mode": {
    "name": "ipython",
    "version": 3
   },
   "file_extension": ".py",
   "mimetype": "text/x-python",
   "name": "python",
   "nbconvert_exporter": "python",
   "pygments_lexer": "ipython3",
   "version": "3.11.5"
  }
 },
 "nbformat": 4,
 "nbformat_minor": 2
}
