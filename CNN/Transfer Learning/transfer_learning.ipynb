{
 "cells": [
  {
   "cell_type": "markdown",
   "metadata": {},
   "source": [
    "# Transfer Learning using VGG 16, VGG 19, ResNet"
   ]
  },
  {
   "cell_type": "markdown",
   "metadata": {},
   "source": [
    "## VGG - Visual Geometry Group\n",
    "#### The VGG architecture is the basis of ground-breaking object recognition models. VGG 16 supports 16 layers, VGG 19 supports 19 layers.\n",
    "## ResNet - Deep Residual Networks\n",
    "#### A residual network uses the insertion of shortcut connections in turning a plain network into its residual network counterpart."
   ]
  },
  {
   "cell_type": "code",
   "execution_count": 33,
   "metadata": {},
   "outputs": [],
   "source": [
    "import numpy as np\n",
    "from tensorflow import keras\n",
    "from tensorflow.keras import layers\n",
    "from tensorflow.keras.applications import VGG16, VGG19, ResNet50\n",
    "from tensorflow.keras.datasets import cifar10\n",
    "from tensorflow.keras.utils import to_categorical"
   ]
  },
  {
   "cell_type": "code",
   "execution_count": 34,
   "metadata": {},
   "outputs": [],
   "source": [
    "# Load the data\n",
    "(x_train, y_train), (x_test, y_test) = cifar10.load_data()\n",
    "\n",
    "# Normalize the data\n",
    "x_train = x_train.astype(\"float32\") / 255.0\n",
    "x_test  = x_test.astype(\"float32\") / 255.0\n",
    "\n",
    "# Convert the labels to one-hot encoded vectors\n",
    "y_train = to_categorical(y_train, 10)\n",
    "y_test = to_categorical(y_test, 10)"
   ]
  },
  {
   "cell_type": "code",
   "execution_count": 35,
   "metadata": {},
   "outputs": [],
   "source": [
    "# Define the model\n",
    "vgg16 = VGG16(weights = \"imagenet\", include_top = False, input_shape = (32, 32, 3))\n",
    "vgg19 = VGG19(weights = \"imagenet\", include_top = False, input_shape = (32, 32, 3))\n",
    "resnet = ResNet50(weights = \"imagenet\", include_top = False, input_shape = (32, 32, 3))"
   ]
  },
  {
   "cell_type": "code",
   "execution_count": 36,
   "metadata": {},
   "outputs": [],
   "source": [
    "# Freeze the layers except the last 4 layers\n",
    "vgg16_output = layers.GlobalAveragePooling2D()(vgg16.output)\n",
    "vgg16_output = layers.Dense(10, activation = \"softmax\")(vgg16_output)\n",
    "\n",
    "vgg19_output = layers.GlobalAveragePooling2D()(vgg19.output)\n",
    "vgg19_output = layers.Dense(10, activation = \"softmax\")(vgg19_output)\n",
    "\n",
    "resnet_output = layers.GlobalAveragePooling2D()(resnet.output)\n",
    "resnet_output = layers.Dense(10, activation = \"softmax\")(resnet_output)"
   ]
  },
  {
   "cell_type": "code",
   "execution_count": 39,
   "metadata": {},
   "outputs": [],
   "source": [
    "# Create a new model\n",
    "vgg16_model = keras.Model(inputs = vgg16.input, outputs = vgg16_output)\n",
    "vgg19_model = keras.Model(inputs = vgg19.input, outputs = vgg19_output)\n",
    "resnet_model = keras.Model(inputs = resnet.input, outputs = resnet_output)"
   ]
  },
  {
   "cell_type": "code",
   "execution_count": 40,
   "metadata": {},
   "outputs": [],
   "source": [
    "# Compile the model\n",
    "vgg16_model.compile(loss = \"categorical_crossentropy\", optimizer = \"adam\", metrics = [\"accuracy\"])\n",
    "vgg19_model.compile(loss = \"categorical_crossentropy\", optimizer = \"adam\", metrics = [\"accuracy\"])\n",
    "resnet_model.compile(loss = \"categorical_crossentropy\", optimizer = \"adam\", metrics = [\"accuracy\"])"
   ]
  },
  {
   "cell_type": "code",
   "execution_count": 41,
   "metadata": {},
   "outputs": [],
   "source": [
    "# Train the model\n",
    "vgg16_loss, vgg16_accuracy = vgg16_model.evaluate(x_test, y_test, verbose = 0)\n",
    "vgg19_loss, vgg19_accuracy = vgg19_model.evaluate(x_test, y_test, verbose = 0)\n",
    "resnet_loss, resnet_accuracy = resnet_model.evaluate(x_test, y_test, verbose = 0)"
   ]
  },
  {
   "cell_type": "code",
   "execution_count": 42,
   "metadata": {},
   "outputs": [
    {
     "name": "stdout",
     "output_type": "stream",
     "text": [
      "VGG16 Test Accuracy:  0.16580000519752502\n",
      "VGG19 Test Accuracy:  0.07699999958276749\n",
      "ResNet Test Accuracy:  0.1014999970793724\n"
     ]
    }
   ],
   "source": [
    "# Print the accuracy\n",
    "print(\"VGG16 Test Accuracy: \", vgg16_accuracy)\n",
    "print(\"VGG19 Test Accuracy: \", vgg19_accuracy)\n",
    "print(\"ResNet Test Accuracy: \", resnet_accuracy)"
   ]
  }
 ],
 "metadata": {
  "kernelspec": {
   "display_name": "base",
   "language": "python",
   "name": "python3"
  },
  "language_info": {
   "codemirror_mode": {
    "name": "ipython",
    "version": 3
   },
   "file_extension": ".py",
   "mimetype": "text/x-python",
   "name": "python",
   "nbconvert_exporter": "python",
   "pygments_lexer": "ipython3",
   "version": "3.11.5"
  }
 },
 "nbformat": 4,
 "nbformat_minor": 2
}
