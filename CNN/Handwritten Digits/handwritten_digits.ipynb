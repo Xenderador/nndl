{
 "cells": [
  {
   "cell_type": "markdown",
   "metadata": {},
   "source": [
    "# Classification of Handwritten Digits"
   ]
  },
  {
   "cell_type": "code",
   "execution_count": 1,
   "metadata": {},
   "outputs": [],
   "source": [
    "from sklearn import datasets\n",
    "from sklearn.model_selection import train_test_split as tts\n",
    "from keras.utils import to_categorical\n",
    "from keras.models import Sequential\n",
    "from keras.layers import Conv2D, MaxPooling2D, Dense, Flatten\n",
    "from keras.callbacks import EarlyStopping, ModelCheckpoint\n",
    "import matplotlib.pyplot as plt"
   ]
  },
  {
   "cell_type": "code",
   "execution_count": 2,
   "metadata": {},
   "outputs": [],
   "source": [
    "# Load the dataset\n",
    "data = datasets.load_digits()\n",
    "x = data.images\n",
    "y = data.target"
   ]
  },
  {
   "cell_type": "code",
   "execution_count": 3,
   "metadata": {},
   "outputs": [],
   "source": [
    "# Split the data into training and testing sets\n",
    "x = x.reshape(x.shape[0], 8, 8, 1)\n",
    "x = x.astype('float32')/255\n",
    "y = to_categorical(y)\n"
   ]
  },
  {
   "cell_type": "code",
   "execution_count": 4,
   "metadata": {},
   "outputs": [],
   "source": [
    "# Split the data into training and testing sets\n",
    "x_train, x_test, y_train, y_test = tts(x, y, test_size = 0.2)"
   ]
  },
  {
   "cell_type": "code",
   "execution_count": 5,
   "metadata": {},
   "outputs": [],
   "source": [
    "# Create the model \n",
    "model = Sequential()\n",
    "model.add(Conv2D(32, kernel_size = (3, 3), activation = 'relu', input_shape = (8, 8, 1)))\n",
    "model.add(MaxPooling2D(pool_size = (2, 2)))\n",
    "model.add(Flatten())\n",
    "model.add(Dense(64, activation = 'relu'))\n",
    "model.add(Dense(10, activation = 'softmax'))\n",
    "\n",
    "# Compile the model\n",
    "model.compile(loss = 'categorical_crossentropy', optimizer = 'adam', metrics = ['accuracy'])"
   ]
  },
  {
   "cell_type": "code",
   "execution_count": 6,
   "metadata": {},
   "outputs": [],
   "source": [
    "# Define early stopping and model checkpoint\n",
    "early_stop = EarlyStopping(monitor = 'val_loss', patience = 10)\n",
    "best_weights = ModelCheckpoint('best_model.h5', save_best_only = True, monitor = 'val_loss', mode = 'min')"
   ]
  },
  {
   "cell_type": "code",
   "execution_count": 7,
   "metadata": {},
   "outputs": [
    {
     "name": "stdout",
     "output_type": "stream",
     "text": [
      "Epoch 1/50\n",
      "45/45 [==============================] - 0s 3ms/step - loss: 2.2856 - accuracy: 0.1983 - val_loss: 2.2670 - val_accuracy: 0.4917\n",
      "Epoch 2/50\n",
      "45/45 [==============================] - 0s 1ms/step - loss: 2.2138 - accuracy: 0.4802 - val_loss: 2.1634 - val_accuracy: 0.4556\n",
      "Epoch 3/50\n",
      "45/45 [==============================] - 0s 2ms/step - loss: 2.0365 - accuracy: 0.5532 - val_loss: 1.9398 - val_accuracy: 0.4972\n",
      "Epoch 4/50\n",
      " 1/45 [..............................] - ETA: 0s - loss: 1.9484 - accuracy: 0.5312"
     ]
    },
    {
     "name": "stderr",
     "output_type": "stream",
     "text": [
      "/Users/kartiksanil/anaconda3/lib/python3.11/site-packages/keras/src/engine/training.py:3079: UserWarning: You are saving your model as an HDF5 file via `model.save()`. This file format is considered legacy. We recommend using instead the native Keras format, e.g. `model.save('my_model.keras')`.\n",
      "  saving_api.save_model(\n"
     ]
    },
    {
     "name": "stdout",
     "output_type": "stream",
     "text": [
      "45/45 [==============================] - 0s 1ms/step - loss: 1.7118 - accuracy: 0.6715 - val_loss: 1.5530 - val_accuracy: 0.7583\n",
      "Epoch 5/50\n",
      "45/45 [==============================] - 0s 1ms/step - loss: 1.3165 - accuracy: 0.7919 - val_loss: 1.1604 - val_accuracy: 0.8333\n",
      "Epoch 6/50\n",
      "45/45 [==============================] - 0s 1ms/step - loss: 0.9800 - accuracy: 0.8399 - val_loss: 0.8953 - val_accuracy: 0.7972\n",
      "Epoch 7/50\n",
      "45/45 [==============================] - 0s 1ms/step - loss: 0.7592 - accuracy: 0.8594 - val_loss: 0.7188 - val_accuracy: 0.8194\n",
      "Epoch 8/50\n",
      "45/45 [==============================] - 0s 1ms/step - loss: 0.6268 - accuracy: 0.8727 - val_loss: 0.6108 - val_accuracy: 0.8556\n",
      "Epoch 9/50\n",
      "45/45 [==============================] - 0s 1ms/step - loss: 0.5326 - accuracy: 0.8810 - val_loss: 0.5090 - val_accuracy: 0.9000\n",
      "Epoch 10/50\n",
      "45/45 [==============================] - 0s 1ms/step - loss: 0.4610 - accuracy: 0.8928 - val_loss: 0.4509 - val_accuracy: 0.8972\n",
      "Epoch 11/50\n",
      "45/45 [==============================] - 0s 1ms/step - loss: 0.4239 - accuracy: 0.8977 - val_loss: 0.4052 - val_accuracy: 0.9083\n",
      "Epoch 12/50\n",
      "45/45 [==============================] - 0s 1ms/step - loss: 0.3811 - accuracy: 0.9033 - val_loss: 0.3600 - val_accuracy: 0.9194\n",
      "Epoch 13/50\n",
      "45/45 [==============================] - 0s 1ms/step - loss: 0.3512 - accuracy: 0.9144 - val_loss: 0.3324 - val_accuracy: 0.9333\n",
      "Epoch 14/50\n",
      "45/45 [==============================] - 0s 1ms/step - loss: 0.3257 - accuracy: 0.9186 - val_loss: 0.3198 - val_accuracy: 0.9278\n",
      "Epoch 15/50\n",
      "45/45 [==============================] - 0s 1ms/step - loss: 0.3064 - accuracy: 0.9269 - val_loss: 0.2851 - val_accuracy: 0.9389\n",
      "Epoch 16/50\n",
      "45/45 [==============================] - 0s 1ms/step - loss: 0.2867 - accuracy: 0.9297 - val_loss: 0.2702 - val_accuracy: 0.9472\n",
      "Epoch 17/50\n",
      "45/45 [==============================] - 0s 1ms/step - loss: 0.2666 - accuracy: 0.9353 - val_loss: 0.2726 - val_accuracy: 0.9278\n",
      "Epoch 18/50\n",
      "45/45 [==============================] - 0s 1ms/step - loss: 0.2552 - accuracy: 0.9395 - val_loss: 0.2384 - val_accuracy: 0.9528\n",
      "Epoch 19/50\n",
      "45/45 [==============================] - 0s 1ms/step - loss: 0.2402 - accuracy: 0.9388 - val_loss: 0.2271 - val_accuracy: 0.9500\n",
      "Epoch 20/50\n",
      "45/45 [==============================] - 0s 1ms/step - loss: 0.2282 - accuracy: 0.9464 - val_loss: 0.2215 - val_accuracy: 0.9417\n",
      "Epoch 21/50\n",
      "45/45 [==============================] - 0s 1ms/step - loss: 0.2181 - accuracy: 0.9478 - val_loss: 0.2176 - val_accuracy: 0.9361\n",
      "Epoch 22/50\n",
      "45/45 [==============================] - 0s 1ms/step - loss: 0.2124 - accuracy: 0.9485 - val_loss: 0.2032 - val_accuracy: 0.9417\n",
      "Epoch 23/50\n",
      "45/45 [==============================] - 0s 1ms/step - loss: 0.1963 - accuracy: 0.9527 - val_loss: 0.2006 - val_accuracy: 0.9333\n",
      "Epoch 24/50\n",
      "45/45 [==============================] - 0s 1ms/step - loss: 0.1908 - accuracy: 0.9569 - val_loss: 0.1883 - val_accuracy: 0.9444\n",
      "Epoch 25/50\n",
      "45/45 [==============================] - 0s 1ms/step - loss: 0.1778 - accuracy: 0.9534 - val_loss: 0.1911 - val_accuracy: 0.9472\n",
      "Epoch 26/50\n",
      "45/45 [==============================] - 0s 2ms/step - loss: 0.1813 - accuracy: 0.9562 - val_loss: 0.1682 - val_accuracy: 0.9444\n",
      "Epoch 27/50\n",
      "45/45 [==============================] - 0s 1ms/step - loss: 0.1681 - accuracy: 0.9610 - val_loss: 0.1798 - val_accuracy: 0.9417\n",
      "Epoch 28/50\n",
      "45/45 [==============================] - 0s 1ms/step - loss: 0.1593 - accuracy: 0.9652 - val_loss: 0.1725 - val_accuracy: 0.9528\n",
      "Epoch 29/50\n",
      "45/45 [==============================] - 0s 1ms/step - loss: 0.1516 - accuracy: 0.9631 - val_loss: 0.1834 - val_accuracy: 0.9444\n",
      "Epoch 30/50\n",
      "45/45 [==============================] - 0s 1ms/step - loss: 0.1518 - accuracy: 0.9624 - val_loss: 0.1499 - val_accuracy: 0.9556\n",
      "Epoch 31/50\n",
      "45/45 [==============================] - 0s 1ms/step - loss: 0.1426 - accuracy: 0.9694 - val_loss: 0.1561 - val_accuracy: 0.9500\n",
      "Epoch 32/50\n",
      "45/45 [==============================] - 0s 1ms/step - loss: 0.1384 - accuracy: 0.9687 - val_loss: 0.1501 - val_accuracy: 0.9556\n",
      "Epoch 33/50\n",
      "45/45 [==============================] - 0s 1ms/step - loss: 0.1366 - accuracy: 0.9666 - val_loss: 0.1323 - val_accuracy: 0.9583\n",
      "Epoch 34/50\n",
      "45/45 [==============================] - 0s 1ms/step - loss: 0.1296 - accuracy: 0.9729 - val_loss: 0.1385 - val_accuracy: 0.9583\n",
      "Epoch 35/50\n",
      "45/45 [==============================] - 0s 1ms/step - loss: 0.1231 - accuracy: 0.9729 - val_loss: 0.1366 - val_accuracy: 0.9639\n",
      "Epoch 36/50\n",
      "45/45 [==============================] - 0s 1ms/step - loss: 0.1209 - accuracy: 0.9729 - val_loss: 0.1316 - val_accuracy: 0.9583\n",
      "Epoch 37/50\n",
      "45/45 [==============================] - 0s 1ms/step - loss: 0.1171 - accuracy: 0.9743 - val_loss: 0.1249 - val_accuracy: 0.9611\n",
      "Epoch 38/50\n",
      "45/45 [==============================] - 0s 1ms/step - loss: 0.1115 - accuracy: 0.9763 - val_loss: 0.1405 - val_accuracy: 0.9639\n",
      "Epoch 39/50\n",
      "45/45 [==============================] - 0s 1ms/step - loss: 0.1122 - accuracy: 0.9736 - val_loss: 0.1183 - val_accuracy: 0.9694\n",
      "Epoch 40/50\n",
      "45/45 [==============================] - 0s 1ms/step - loss: 0.1064 - accuracy: 0.9763 - val_loss: 0.1164 - val_accuracy: 0.9639\n",
      "Epoch 41/50\n",
      "45/45 [==============================] - 0s 1ms/step - loss: 0.1066 - accuracy: 0.9756 - val_loss: 0.1207 - val_accuracy: 0.9639\n",
      "Epoch 42/50\n",
      "45/45 [==============================] - 0s 1ms/step - loss: 0.1031 - accuracy: 0.9777 - val_loss: 0.1125 - val_accuracy: 0.9639\n",
      "Epoch 43/50\n",
      "45/45 [==============================] - 0s 1ms/step - loss: 0.0978 - accuracy: 0.9763 - val_loss: 0.1173 - val_accuracy: 0.9667\n",
      "Epoch 44/50\n",
      "45/45 [==============================] - 0s 1ms/step - loss: 0.0926 - accuracy: 0.9791 - val_loss: 0.1111 - val_accuracy: 0.9667\n",
      "Epoch 45/50\n",
      "45/45 [==============================] - 0s 1ms/step - loss: 0.0911 - accuracy: 0.9777 - val_loss: 0.1118 - val_accuracy: 0.9667\n",
      "Epoch 46/50\n",
      "45/45 [==============================] - 0s 1ms/step - loss: 0.0872 - accuracy: 0.9784 - val_loss: 0.1140 - val_accuracy: 0.9667\n",
      "Epoch 47/50\n",
      "45/45 [==============================] - 0s 1ms/step - loss: 0.0896 - accuracy: 0.9777 - val_loss: 0.1055 - val_accuracy: 0.9694\n",
      "Epoch 48/50\n",
      "45/45 [==============================] - 0s 1ms/step - loss: 0.0827 - accuracy: 0.9819 - val_loss: 0.1022 - val_accuracy: 0.9722\n",
      "Epoch 49/50\n",
      "45/45 [==============================] - 0s 1ms/step - loss: 0.0825 - accuracy: 0.9784 - val_loss: 0.1203 - val_accuracy: 0.9694\n",
      "Epoch 50/50\n",
      "45/45 [==============================] - 0s 1ms/step - loss: 0.0880 - accuracy: 0.9763 - val_loss: 0.0960 - val_accuracy: 0.9750\n"
     ]
    }
   ],
   "source": [
    "# Fit the model\n",
    "history = model.fit(x_train, y_train, epochs = 50, batch_size = 32, validation_data = (x_test,y_test), callbacks = [early_stop,best_weights])"
   ]
  },
  {
   "cell_type": "markdown",
   "metadata": {},
   "source": [
    "# Plotting"
   ]
  },
  {
   "cell_type": "code",
   "execution_count": 8,
   "metadata": {},
   "outputs": [
    {
     "data": {
      "image/png": "[encoded data removed]",
      "text/plain": [
       "<Figure size 640x480 with 1 Axes>"
      ]
     },
     "metadata": {},
     "output_type": "display_data"
    }
   ],
   "source": [
    "# Plot the loss\n",
    "plt.plot(history.history['val_loss'])\n",
    "plt.title('Validation Loss')\n",
    "plt.ylabel('Loss')\n",
    "plt.xlabel('Epoch')\n",
    "plt.show()"
   ]
  },
  {
   "cell_type": "code",
   "execution_count": 9,
   "metadata": {},
   "outputs": [
    {
     "data": {
      "image/png": "[encoded data removed]",
      "text/plain": [
       "<Figure size 640x480 with 1 Axes>"
      ]
     },
     "metadata": {},
     "output_type": "display_data"
    }
   ],
   "source": [
    "# Plot the accuracy\n",
    "plt.plot(history.history['val_accuracy'])\n",
    "plt.title('Validation accuracy')\n",
    "plt.ylabel('Accuracy')\n",
    "plt.xlabel('Epoch')\n",
    "plt.show()"
   ]
  },
  {
   "cell_type": "code",
   "execution_count": 10,
   "metadata": {},
   "outputs": [],
   "source": [
    "# Load the best weights\n",
    "model.load_weights(\"best_model.h5\")"
   ]
  },
  {
   "cell_type": "code",
   "execution_count": 11,
   "metadata": {},
   "outputs": [
    {
     "name": "stdout",
     "output_type": "stream",
     "text": [
      "Test Loss: 0.09596605598926544\n",
      "Test Accuracy: 0.9750000238418579\n"
     ]
    }
   ],
   "source": [
    "# Evaluate the model\n",
    "test_loss,test_acc = model.evaluate(x_test, y_test, verbose = 0)\n",
    "print(\"Test Loss:\", test_loss)\n",
    "print(\"Test Accuracy:\", test_acc)"
   ]
  }
 ],
 "metadata": {
  "kernelspec": {
   "display_name": "base",
   "language": "python",
   "name": "python3"
  },
  "language_info": {
   "codemirror_mode": {
    "name": "ipython",
    "version": 3
   },
   "file_extension": ".py",
   "mimetype": "text/x-python",
   "name": "python",
   "nbconvert_exporter": "python",
   "pygments_lexer": "ipython3",
   "version": "3.11.5"
  }
 },
 "nbformat": 4,
 "nbformat_minor": 2
}
